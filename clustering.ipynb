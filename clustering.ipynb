{
 "cells": [
  {
   "cell_type": "code",
   "execution_count": 49,
   "id": "initial_id",
   "metadata": {},
   "outputs": [
    {
     "name": "stdout",
     "output_type": "stream",
     "text": [
      "Requirement already satisfied: kmodes in c:\\_work\\shap_llm\\lib\\site-packages (0.12.2)\n",
      "Requirement already satisfied: numpy>=1.10.4 in c:\\_work\\shap_llm\\lib\\site-packages (from kmodes) (1.24.4)\n",
      "Requirement already satisfied: scikit-learn>=0.22.0 in c:\\_work\\shap_llm\\lib\\site-packages (from kmodes) (1.3.2)\n",
      "Requirement already satisfied: scipy>=0.13.3 in c:\\_work\\shap_llm\\lib\\site-packages (from kmodes) (1.10.1)\n",
      "Requirement already satisfied: joblib>=0.11 in c:\\_work\\shap_llm\\lib\\site-packages (from kmodes) (1.3.2)\n",
      "Requirement already satisfied: threadpoolctl>=2.0.0 in c:\\_work\\shap_llm\\lib\\site-packages (from scikit-learn>=0.22.0->kmodes) (3.2.0)\n"
     ]
    },
    {
     "name": "stderr",
     "output_type": "stream",
     "text": [
      "\n",
      "[notice] A new release of pip is available: 23.2.1 -> 24.0\n",
      "[notice] To update, run: python.exe -m pip install --upgrade pip\n"
     ]
    }
   ],
   "source": [
    "!pip3 install kmodes\n",
    "\n",
    "import random\n",
    "import string\n",
    "from collections import defaultdict\n",
    "\n",
    "import numpy as np\n",
    "from kmodes.kmodes import KModes\n",
    "from sklearn.cluster import AgglomerativeClustering\n",
    "from sklearn.mixture import GaussianMixture"
   ]
  },
  {
   "cell_type": "code",
   "execution_count": 2,
   "id": "0b6a5a75-06df-474d-80ed-8dd03bc66c8c",
   "metadata": {},
   "outputs": [],
   "source": [
    "def generate_random_dict():\n",
    "\tnum_elements = random.randint(32, 128)\n",
    "\trandom_dict = {}\n",
    "\t\n",
    "\tkeys = np.random.choice(list(string.ascii_lowercase), num_elements)\n",
    "\tfor key in keys:\n",
    "\t\tvalue = random.uniform(-1, 1)\n",
    "\t\trandom_dict[key] = value\n",
    "\t\n",
    "\trandom_dict = dict(sorted(random_dict.items(), key=lambda item: item[1], reverse=True))\n",
    "\treturn random_dict\n",
    "\n",
    "\n",
    "combinations = [generate_random_dict() for _ in range(128)]"
   ]
  },
  {
   "cell_type": "code",
   "execution_count": 29,
   "id": "87587275-3795-41c4-b1da-8c31fce35d3c",
   "metadata": {},
   "outputs": [
    {
     "name": "stdout",
     "output_type": "stream",
     "text": [
      "{0: [-0.1753707480539426, -0.419732979093288], 3: [0.9873639878622686], 4: [-0.5716733129990841, -0.6730367198669112, -0.7152887233752461, -0.9086171035630541, -0.908750059758118, -0.9100763468688824], 5: [0.1989521535035239, 0.16366290904746927, 0.14809520521820363, 0.11547249522450853, 0.11046765211185083, 0.009147070755567421], 6: [0.6857375832044912, 0.6363423597958651, 0.471873777674912, 0.4676136984780075, 0.4011503039868194, 0.3227194658662962, 0.2871811452944424, 0.2673744380846659]}\n"
     ]
    }
   ],
   "source": [
    "data = np.array(list(combinations[0].values())).reshape(-1, 1)\n",
    "\n",
    "gmm = GaussianMixture(n_components=8, init_params='random')\n",
    "gmm.fit(data)\n",
    "\n",
    "gmm_labels = gmm.predict(data)\n",
    "\n",
    "gmm_predictions = list(zip(data, gmm_labels))\n",
    "\n",
    "gmm_predictions_dict = defaultdict(list)\n",
    "for key, value in sorted(gmm_predictions, key=lambda x: x[1]):\n",
    "\tgmm_predictions_dict[value].append(key[0])\n",
    "\n",
    "gmm_predictions_dict = dict(gmm_predictions_dict)\n",
    "\n",
    "print(gmm_predictions_dict)"
   ]
  },
  {
   "cell_type": "code",
   "execution_count": 30,
   "id": "fb5f7382-ffa5-49c8-8939-d545277e3098",
   "metadata": {},
   "outputs": [
    {
     "data": {
      "text/plain": [
       "[(array([0.98736399]), 3),\n",
       " (array([0.68573758]), 6),\n",
       " (array([0.63634236]), 6),\n",
       " (array([0.47187378]), 6),\n",
       " (array([0.4676137]), 6),\n",
       " (array([0.4011503]), 6),\n",
       " (array([0.32271947]), 6),\n",
       " (array([0.28718115]), 6),\n",
       " (array([0.26737444]), 6),\n",
       " (array([0.19895215]), 5),\n",
       " (array([0.16366291]), 5),\n",
       " (array([0.14809521]), 5),\n",
       " (array([0.1154725]), 5),\n",
       " (array([0.11046765]), 5),\n",
       " (array([0.00914707]), 5),\n",
       " (array([-0.17537075]), 0),\n",
       " (array([-0.41973298]), 0),\n",
       " (array([-0.57167331]), 4),\n",
       " (array([-0.67303672]), 4),\n",
       " (array([-0.71528872]), 4),\n",
       " (array([-0.9086171]), 4),\n",
       " (array([-0.90875006]), 4),\n",
       " (array([-0.91007635]), 4)]"
      ]
     },
     "execution_count": 30,
     "metadata": {},
     "output_type": "execute_result"
    }
   ],
   "source": [
    "gmm_predictions"
   ]
  },
  {
   "cell_type": "code",
   "execution_count": 37,
   "id": "36e7fe15-9652-4699-b245-9c987c2312c4",
   "metadata": {},
   "outputs": [],
   "source": [
    "agg_clustering = AgglomerativeClustering(n_clusters=3)\n",
    "agg_clustering.fit(data)\n",
    "\n",
    "agg_labels = agg_clustering.labels_\n",
    "\n",
    "gmm_predictions = list(zip(data, agg_labels))"
   ]
  },
  {
   "cell_type": "code",
   "execution_count": 38,
   "id": "9ba63b30-3e55-4ff9-82e8-1de22729688b",
   "metadata": {},
   "outputs": [
    {
     "data": {
      "text/plain": [
       "[(array([0.98736399]), 2),\n",
       " (array([0.68573758]), 2),\n",
       " (array([0.63634236]), 2),\n",
       " (array([0.47187378]), 1),\n",
       " (array([0.4676137]), 1),\n",
       " (array([0.4011503]), 1),\n",
       " (array([0.32271947]), 1),\n",
       " (array([0.28718115]), 1),\n",
       " (array([0.26737444]), 1),\n",
       " (array([0.19895215]), 1),\n",
       " (array([0.16366291]), 1),\n",
       " (array([0.14809521]), 1),\n",
       " (array([0.1154725]), 1),\n",
       " (array([0.11046765]), 1),\n",
       " (array([0.00914707]), 1),\n",
       " (array([-0.17537075]), 0),\n",
       " (array([-0.41973298]), 0),\n",
       " (array([-0.57167331]), 0),\n",
       " (array([-0.67303672]), 0),\n",
       " (array([-0.71528872]), 0),\n",
       " (array([-0.9086171]), 0),\n",
       " (array([-0.90875006]), 0),\n",
       " (array([-0.91007635]), 0)]"
      ]
     },
     "execution_count": 38,
     "metadata": {},
     "output_type": "execute_result"
    }
   ],
   "source": [
    "gmm_predictions"
   ]
  },
  {
   "cell_type": "code",
   "execution_count": 73,
   "id": "c6bc0ac4-3604-4804-8965-18e7a3e85573",
   "metadata": {},
   "outputs": [
    {
     "data": {
      "text/plain": [
       "array([[1, 2, 2, 2],\n",
       "       [1, 2, 2, 2],\n",
       "       [1, 1, 1, 1],\n",
       "       [0, 1, 1, 1],\n",
       "       [0, 0, 0, 0],\n",
       "       [0, 0, 0, 4],\n",
       "       [0, 0, 0, 3],\n",
       "       [0, 0, 3, 3]])"
      ]
     },
     "execution_count": 73,
     "metadata": {},
     "output_type": "execute_result"
    }
   ],
   "source": [
    "data"
   ]
  },
  {
   "cell_type": "code",
   "execution_count": 76,
   "id": "472f513a-8e21-4b6c-b98f-3c61628d95e1",
   "metadata": {},
   "outputs": [
    {
     "name": "stdout",
     "output_type": "stream",
     "text": [
      "[0 0 2 2 1 3 1 1]\n"
     ]
    }
   ],
   "source": [
    "data = np.array(\n",
    "\t\t[\n",
    "\t\t\t\t[1, 1, 1, 0, 0, 0, 0, 0],\n",
    "\t\t\t\t[2, 2, 1, 1, 0, 0, 0, 0],\n",
    "\t\t\t\t[2, 2, 1, 1, 0, 0, 0, 3],\n",
    "\t\t\t\t[2, 2, 1, 1, 0, 4, 3, 3]\n",
    "\t\t\t\t]\n",
    "\t\t).T\n",
    "\n",
    "k = 4\n",
    "km = KModes(n_clusters=k, init='Huang', n_init=4, verbose=0)\n",
    "km_clusters = km.fit_predict(data)\n",
    "\n",
    "print(km_clusters)"
   ]
  },
  {
   "cell_type": "code",
   "execution_count": null,
   "id": "6d28333a-d208-45d6-83b2-b678b52fe6b6",
   "metadata": {},
   "outputs": [],
   "source": [
    "'''outliers = []\n",
    "for index, combination in enumerate(combinations):\n",
    "\toutlier = modified_z_score_outliers(combination)\n",
    "\toutlier.extend(tukey_fences_outliers(combination))\n",
    "\toutlier.extend(percentile_based_outliers(combination))\n",
    "\toutlier.extend(mad_outliers(combination))\n",
    "\toutlier.extend(huber_m_outliers(combination))\n",
    "\t\n",
    "\toutlier = Counter(outlier)\n",
    "\toutlier = sorted(outlier.items(), key=lambda item: (-item[1], item[0]))\n",
    "\toutlier = dict(outlier)\n",
    "\t\n",
    "\tpositive_outlier = {key: value for key, value in outlier.items() if combination.get(key) > 0}\n",
    "\tnegative_outlier = {key: value for key, value in outlier.items() if combination.get(key) < 0}\n",
    "\t\n",
    "\toutliers.append([positive_outlier, negative_outlier])'''"
   ]
  }
 ],
 "metadata": {
  "kernelspec": {
   "display_name": "Python 3 (ipykernel)",
   "language": "python",
   "name": "python3"
  },
  "language_info": {
   "codemirror_mode": {
    "name": "ipython",
    "version": 3
   },
   "file_extension": ".py",
   "mimetype": "text/x-python",
   "name": "python",
   "nbconvert_exporter": "python",
   "pygments_lexer": "ipython3",
   "version": "3.8.10"
  }
 },
 "nbformat": 4,
 "nbformat_minor": 5
}
